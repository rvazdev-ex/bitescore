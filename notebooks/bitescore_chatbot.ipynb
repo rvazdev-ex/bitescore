{
 "cells": [
  {
   "cell_type": "markdown",
   "id": "3cdfac38",
   "metadata": {},
   "source": [
    "# bitescore Chatbot (Jupyter)\n",
    "\n",
    "This notebook embeds the bitescore chat pipeline inside a Jupyter session. Use it when you prefer to keep the workflow and generated outputs directly in your notebook environment."
   ]
  },
  {
   "cell_type": "markdown",
   "id": "bfcf74ca",
   "metadata": {},
   "source": [
    "## Prerequisites\n",
    "\n",
    "* The bitescore package must be installed in the current environment (\"`pip install -e .`\").\n",
    "* Optional databases (DIAMOND, BLAST, Pfam, etc.) should be available at the paths you plan to reference.\n",
    "* When you finish using the chatbot, remember to call `demo.close()` (see the last cell) to free the resources."
   ]
  },
  {
   "cell_type": "code",
   "execution_count": 1,
   "id": "2370c3f2",
   "metadata": {},
   "outputs": [
    {
     "name": "stderr",
     "output_type": "stream",
     "text": [
      "/home/rvalenciaaz/miniconda3/envs/bitescore-chat/lib/python3.10/site-packages/gradio/chat_interface.py:331: UserWarning: The gr.ChatInterface was not provided with a type, so the type of the gr.Chatbot, 'messages', will be used.\n",
      "  warnings.warn(\n"
     ]
    }
   ],
   "source": [
    "from bitescore.app.chatbot import build_ui\n",
    "\n",
    "# Build the Gradio Blocks app that powers the chatbot\n",
    "demo = build_ui()"
   ]
  },
  {
   "cell_type": "markdown",
   "id": "19641d23",
   "metadata": {},
   "source": [
    "## Launch the chatbot\n",
    "\n",
    "Running the next cell will start the chat interface inline. If you prefer the traditional browser view instead, pass `inline=False` and optionally set `server_port` or `server_name`."
   ]
  },
  {
   "cell_type": "code",
   "execution_count": 2,
   "id": "4daa1250",
   "metadata": {},
   "outputs": [
    {
     "name": "stdout",
     "output_type": "stream",
     "text": [
      "* Running on local URL:  http://127.0.0.1:7860\n",
      "* To create a public link, set `share=True` in `launch()`.\n"
     ]
    },
    {
     "data": {
      "text/html": [
       "<div><iframe src=\"http://127.0.0.1:7860/\" width=\"100%\" height=\"500\" allow=\"autoplay; camera; microphone; clipboard-read; clipboard-write;\" frameborder=\"0\" allowfullscreen></iframe></div>"
      ],
      "text/plain": [
       "<IPython.core.display.HTML object>"
      ]
     },
     "metadata": {},
     "output_type": "display_data"
    }
   ],
   "source": [
    "# Launch in the notebook (inline).\n",
    "# Set inline=False for a separate browser window/tab.\n",
    "chat = demo.launch(inline=True, share=False)"
   ]
  },
  {
   "cell_type": "markdown",
   "id": "9bc48434",
   "metadata": {},
   "source": [
    "## Shut down the app\n",
    "\n",
    "Call `demo.close()` when you are done chatting. This stops the underlying server and frees the temporary resources created for uploads."
   ]
  },
  {
   "cell_type": "code",
   "execution_count": 3,
   "id": "fa82e135",
   "metadata": {},
   "outputs": [
    {
     "name": "stdout",
     "output_type": "stream",
     "text": [
      "Closing server running on port: 7860\n"
     ]
    }
   ],
   "source": [
    "demo.close()"
   ]
  },
  {
   "cell_type": "code",
   "execution_count": null,
   "id": "9b1f0482-232e-4031-8c59-e5e50b46a396",
   "metadata": {},
   "outputs": [],
   "source": []
  }
 ],
 "metadata": {
  "kernelspec": {
   "display_name": "Python [conda env:bitescore-chat]",
   "language": "python",
   "name": "conda-env-bitescore-chat-py"
  },
  "language_info": {
   "codemirror_mode": {
    "name": "ipython",
    "version": 3
   },
   "file_extension": ".py",
   "mimetype": "text/x-python",
   "name": "python",
   "nbconvert_exporter": "python",
   "pygments_lexer": "ipython3",
   "version": "3.10.18"
  }
 },
 "nbformat": 4,
 "nbformat_minor": 5
}
